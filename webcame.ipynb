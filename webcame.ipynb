{
 "cells": [
  {
   "cell_type": "code",
   "execution_count": 1,
   "id": "7f02092a",
   "metadata": {},
   "outputs": [
    {
     "name": "stdout",
     "output_type": "stream",
     "text": [
      "4.6.0\n"
     ]
    }
   ],
   "source": [
    "import cv2\n",
    "print(cv2.__version__)"
   ]
  },
  {
   "cell_type": "code",
   "execution_count": null,
   "id": "5aa02b03",
   "metadata": {},
   "outputs": [],
   "source": [
    "# 참조 코드 : https://bskyvision.com/723 \n",
    "# 1초에 2번씩 이미지 캡쳐 \n",
    "# 정해야하는 부분 : 이미지 크기 일단, original 은 480*640 임! \n",
    "\n",
    "import cv2\n",
    "#matplotlib 으로 지금 캡쳐되고 있는 화면 확인해보기 \n",
    "from matplotlib import pyplot as plt\n",
    "\n",
    "# open webcam (웹캠 열기)\n",
    "webcam = cv2.VideoCapture(0)\n",
    "\n",
    "if not webcam.isOpened():\n",
    "    print(\"Could not open webcam\")\n",
    "    exit()\n",
    "\n",
    "    \n",
    "img_num = 0    \n",
    "# loop through frames\n",
    "while webcam.isOpened():\n",
    "     \n",
    "    # read frame from webcam \n",
    "    status, frame = webcam.read()\n",
    "    \n",
    "    \n",
    "    #이 코드로, frame resize 할 수 있음! 비율 1.5 배씩 늘린 것 (original: 480*640 -resized-> 720, 960)   \n",
    "    frame = cv2.resize(frame ,None, fx=1.5, fy=1.5, interpolation=cv2.INTER_LINEAR)    \n",
    "    #캡쳐 이미지 크기 출력해보기 \n",
    "    print('height and width :' , frame.shape[:2])\n",
    "    img_num = img_num + 1\n",
    "    \n",
    "    \n",
    "    # display output\n",
    "    # 읽어들인 이미지 파일을 윈도우창에 보여줍니다.\n",
    "    cv2.imshow(\"captured frames\", frame)\n",
    "    \n",
    "    #matplotlib 로 출력하기 , +RGB 순서 반대여서 바꿔야함 \n",
    "    frame2 = cv2.cvtColor(frame, cv2.COLOR_RGB2BGR)\n",
    "    plt.imshow(frame2)\n",
    "    plt.show()\n",
    "    \n",
    "    \n",
    "    #cv2.imwrite() 함수를 이용하여 변환된 이미지나 동영상의 특정 프레임을 저장합니다.\n",
    "    cv2.imwrite('./images/img'+str(img_num)+'.jpg', frame)\n",
    "    \n",
    "    # press \"Q\" to stop\n",
    "    # 1000  = 1초에 한번, 나는 2초에 1번으로 설정해둠 \n",
    "    if cv2.waitKey(500) & 0xFF == ord('q'):\n",
    "        break\n",
    "    \n",
    "# release resources\n",
    "webcam.release()\n",
    "cv2.destroyAllWindows() "
   ]
  }
 ],
 "metadata": {
  "kernelspec": {
   "display_name": "Python 3 (ipykernel)",
   "language": "python",
   "name": "python3"
  },
  "language_info": {
   "codemirror_mode": {
    "name": "ipython",
    "version": 3
   },
   "file_extension": ".py",
   "mimetype": "text/x-python",
   "name": "python",
   "nbconvert_exporter": "python",
   "pygments_lexer": "ipython3",
   "version": "3.9.12"
  },
  "vp": {
   "vp_config_version": "1.0.0",
   "vp_menu_width": 273,
   "vp_note_display": false,
   "vp_note_width": 0,
   "vp_position": {
    "width": 278
   },
   "vp_section_display": false,
   "vp_signature": "VisualPython"
  }
 },
 "nbformat": 4,
 "nbformat_minor": 5
}
