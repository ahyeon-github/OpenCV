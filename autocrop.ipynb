{
 "cells": [
  {
   "cell_type": "code",
   "execution_count": 1,
   "id": "b475fcd6",
   "metadata": {},
   "outputs": [],
   "source": [
    "import cv2\n",
    "import glob"
   ]
  },
  {
   "cell_type": "code",
   "execution_count": 2,
   "id": "1771dccf",
   "metadata": {},
   "outputs": [],
   "source": [
    "face_cascade = cv2.CascadeClassifier('haarcascade_frontalface_default.xml')"
   ]
  },
  {
   "cell_type": "code",
   "execution_count": 3,
   "id": "0ea26e94",
   "metadata": {},
   "outputs": [],
   "source": [
    "path = '/Users/ahyeonlim/images/*.*'"
   ]
  },
  {
   "cell_type": "code",
   "execution_count": 4,
   "id": "4d946ce7",
   "metadata": {},
   "outputs": [],
   "source": [
    "img_number = 1"
   ]
  },
  {
   "cell_type": "code",
   "execution_count": 5,
   "id": "fdb07870",
   "metadata": {},
   "outputs": [],
   "source": [
    "img_list = glob.glob(path)"
   ]
  },
  {
   "cell_type": "code",
   "execution_count": 6,
   "id": "ad70cd23",
   "metadata": {},
   "outputs": [],
   "source": [
    "for file in img_list[0:120]:\n",
    "    print(file)\n",
    "    img = cv2.imread(file,1)\n",
    "    gray = cv2.cvtColor(img, cv2.COLOR_BGR2GRAY)\n",
    "    faces = face_cascade.detectMultiScale(gray, 1.3, 5)\n",
    "    try:\n",
    "        for(x,y,w,h) in faces:\n",
    "            roi_color = img[y:y+h, x:x+w]\n",
    "        resized = cv2.resize(roi_color, (96,96))\n",
    "        cv2.imwrite('/Users/ahyeonlim/images/cutting_faces'+str(img_number)+\".jpg\", resized)\n",
    "    except:\n",
    "        print(\"no face detected\")\n",
    "        \n",
    "    img_number +=1"
   ]
  }
 ],
 "metadata": {
  "kernelspec": {
   "display_name": "Python 3 (ipykernel)",
   "language": "python",
   "name": "python3"
  },
  "language_info": {
   "codemirror_mode": {
    "name": "ipython",
    "version": 3
   },
   "file_extension": ".py",
   "mimetype": "text/x-python",
   "name": "python",
   "nbconvert_exporter": "python",
   "pygments_lexer": "ipython3",
   "version": "3.9.12"
  },
  "vp": {
   "vp_config_version": "1.0.0",
   "vp_menu_width": 273,
   "vp_note_display": false,
   "vp_note_width": 0,
   "vp_position": {
    "width": 278
   },
   "vp_section_display": false,
   "vp_signature": "VisualPython"
  }
 },
 "nbformat": 4,
 "nbformat_minor": 5
}
